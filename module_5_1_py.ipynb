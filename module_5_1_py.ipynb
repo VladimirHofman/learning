{
  "nbformat": 4,
  "nbformat_minor": 0,
  "metadata": {
    "colab": {
      "provenance": [],
      "authorship_tag": "ABX9TyN6ug4cMEB5DNy4+VmCe9RZ",
      "include_colab_link": true
    },
    "kernelspec": {
      "name": "python3",
      "display_name": "Python 3"
    },
    "language_info": {
      "name": "python"
    }
  },
  "cells": [
    {
      "cell_type": "markdown",
      "metadata": {
        "id": "view-in-github",
        "colab_type": "text"
      },
      "source": [
        "<a href=\"https://colab.research.google.com/github/VladimirHofman/learning/blob/main/module_5_1_py.ipynb\" target=\"_parent\"><img src=\"https://colab.research.google.com/assets/colab-badge.svg\" alt=\"Open In Colab\"/></a>"
      ]
    },
    {
      "cell_type": "code",
      "source": [
        "class House():\n",
        "    def __init__(self, name, number_of_floors):\n",
        "\n",
        "        self.name = name\n",
        "        self.number_of_floors = number_of_floors\n",
        "\n",
        "    def go_to(self, new_floor):\n",
        "\n",
        "\n",
        "        if new_floor > self.number_of_floors or new_floor < 1:\n",
        "            print(\"Такого этажа не существует\")\n",
        "        else:\n",
        "            for n_floor in range(1, new_floor+1):\n",
        "                print(n_floor)\n",
        "\n",
        "h1 = House('ЖК Горский', 18)\n",
        "h2 = House('Домик в деревне', 2)\n",
        "h1.go_to(5)\n",
        "h2.go_to(10)\n"
      ],
      "metadata": {
        "colab": {
          "base_uri": "https://localhost:8080/"
        },
        "id": "Um3gGPSq27o6",
        "outputId": "3bed411d-b2a5-4fdc-d5a8-289b882c88b5"
      },
      "execution_count": 2,
      "outputs": [
        {
          "output_type": "stream",
          "name": "stdout",
          "text": [
            "1\n",
            "2\n",
            "3\n",
            "4\n",
            "5\n",
            "Такого этажа не существует\n"
          ]
        }
      ]
    }
  ]
}
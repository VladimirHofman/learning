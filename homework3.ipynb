{
  "nbformat": 4,
  "nbformat_minor": 0,
  "metadata": {
    "colab": {
      "provenance": [],
      "authorship_tag": "ABX9TyOHIFX50GZV/I/ObjF6cYQF",
      "include_colab_link": true
    },
    "kernelspec": {
      "name": "python3",
      "display_name": "Python 3"
    },
    "language_info": {
      "name": "python"
    }
  },
  "cells": [
    {
      "cell_type": "markdown",
      "metadata": {
        "id": "view-in-github",
        "colab_type": "text"
      },
      "source": [
        "<a href=\"https://colab.research.google.com/github/VladimirHofman/learning/blob/main/homework3.ipynb\" target=\"_parent\"><img src=\"https://colab.research.google.com/assets/colab-badge.svg\" alt=\"Open In Colab\"/></a>"
      ]
    },
    {
      "cell_type": "markdown",
      "source": [
        " Создайте переменные разных типов данных:\n",
        "  - Создайте переменную name и присвойте ей значение вашего имени (строка).\n",
        "  - Выведите значение переменной name на экран.\n",
        "  - Создайте переменную age и присвойте ей значение вашего возраста (целое число).\n",
        "  - Выведите значение переменной age на экран.\n",
        "  - Перезапишите в age текущее значение переменной age + новое.\n",
        "Как неверно (просто перезапись на новое число):\n",
        "a = 15\n",
        "a = 17\n",
        "  - Выведите измененное значение переменной age на экран.\n",
        "  - Создайте переменную is_student и присвойте ей значение True (логическое значение).\n",
        "  - Выведите значение переменной is_student на экран.\n"
      ],
      "metadata": {
        "id": "fBI4iXKPtLXO"
      }
    },
    {
      "cell_type": "code",
      "source": [
        "name = \"Vladimir\"\n",
        "print(f'Name: {name}')\n",
        "age = 35\n",
        "print(f'Age: {age}')\n",
        "age = age + 1\n",
        "print(f'New age: {age}')\n",
        "is_student = True\n",
        "print('is Student:', is_student)\n"
      ],
      "metadata": {
        "colab": {
          "base_uri": "https://localhost:8080/"
        },
        "id": "6RTCqi81tNIP",
        "outputId": "55981abb-b92f-4758-fdb9-c5ba9216ac74"
      },
      "execution_count": 13,
      "outputs": [
        {
          "output_type": "stream",
          "name": "stdout",
          "text": [
            "Name: Vladimir\n",
            "Age: 35\n",
            "New age: 36\n",
            "is Student: True\n"
          ]
        }
      ]
    }
  ]
}
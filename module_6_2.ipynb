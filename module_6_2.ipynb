{
  "nbformat": 4,
  "nbformat_minor": 0,
  "metadata": {
    "colab": {
      "provenance": [],
      "authorship_tag": "ABX9TyMYW9fIwJsaoWVHn6DUHJoC",
      "include_colab_link": true
    },
    "kernelspec": {
      "name": "python3",
      "display_name": "Python 3"
    },
    "language_info": {
      "name": "python"
    }
  },
  "cells": [
    {
      "cell_type": "markdown",
      "metadata": {
        "id": "view-in-github",
        "colab_type": "text"
      },
      "source": [
        "<a href=\"https://colab.research.google.com/github/VladimirHofman/learning/blob/main/module_6_2.ipynb\" target=\"_parent\"><img src=\"https://colab.research.google.com/assets/colab-badge.svg\" alt=\"Open In Colab\"/></a>"
      ]
    },
    {
      "cell_type": "code",
      "source": [
        "class Vehicle:\n",
        "    __COLOR_VARIANTS = ['blue', 'red', 'green', 'black', 'white']\n",
        "\n",
        "    def __init__(self, owner, model, color, engine_power):\n",
        "        self.owner = owner\n",
        "        self.__model = model\n",
        "        self.__engine_power = engine_power\n",
        "        self.__color = color\n",
        "\n",
        "    def get_model(self):\n",
        "        return f\"Модель: {self.__model}\"\n",
        "\n",
        "    def get_horsepower(self):\n",
        "        return f\"Мощность двигателя: {self.__engine_power}\"\n",
        "\n",
        "    def get_color(self):\n",
        "        return f\"Цвет: {self.__color}\"\n",
        "\n",
        "    def print_info(self):\n",
        "        print(self.get_model())\n",
        "        print(self.get_horsepower())\n",
        "        print(self.get_color())\n",
        "        print(f\"Владелец: {self.owner}\")\n",
        "\n",
        "    def set_color(self, new_color):\n",
        "        if new_color.lower() in [color.lower() for color in self.__COLOR_VARIANTS]:\n",
        "            self.__color = new_color\n",
        "        else:\n",
        "            print(f\"Нельзя сменить цвет на {new_color}\")\n",
        "\n",
        "\n",
        "class Sedan(Vehicle):\n",
        "    __PASSENGERS_LIMIT = 5\n",
        "\n",
        "    def __init__(self, owner, model, color, engine_power):\n",
        "        super().__init__(owner, model, color, engine_power)\n",
        "\n",
        "\n",
        "# Текущие цвета __COLOR_VARIANTS = ['blue', 'red', 'green', 'black', 'white']\n",
        "vehicle1 = Sedan('Fedos', 'Toyota Mark II', 'blue', 500)\n",
        "\n",
        "# Изначальные свойства\n",
        "vehicle1.print_info()\n",
        "\n",
        "# Меняем свойства (в т.ч. вызывая методы)\n",
        "vehicle1.set_color('Pink')\n",
        "vehicle1.set_color('BLACK')\n",
        "vehicle1.owner = 'Vasyok'\n",
        "\n",
        "# Проверяем что поменялось\n",
        "vehicle1.print_info()\n"
      ],
      "metadata": {
        "colab": {
          "base_uri": "https://localhost:8080/"
        },
        "id": "14pDVDrtgR57",
        "outputId": "9b69a034-580a-41fe-81c6-0c3ed03136a5"
      },
      "execution_count": 1,
      "outputs": [
        {
          "output_type": "stream",
          "name": "stdout",
          "text": [
            "Модель: Toyota Mark II\n",
            "Мощность двигателя: 500\n",
            "Цвет: blue\n",
            "Владелец: Fedos\n",
            "Нельзя сменить цвет на Pink\n",
            "Модель: Toyota Mark II\n",
            "Мощность двигателя: 500\n",
            "Цвет: BLACK\n",
            "Владелец: Vasyok\n"
          ]
        }
      ]
    }
  ]
}
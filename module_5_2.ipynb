{
  "nbformat": 4,
  "nbformat_minor": 0,
  "metadata": {
    "colab": {
      "provenance": [],
      "authorship_tag": "ABX9TyNelPFsFW0JNNYDQUOBVdpL",
      "include_colab_link": true
    },
    "kernelspec": {
      "name": "python3",
      "display_name": "Python 3"
    },
    "language_info": {
      "name": "python"
    }
  },
  "cells": [
    {
      "cell_type": "markdown",
      "metadata": {
        "id": "view-in-github",
        "colab_type": "text"
      },
      "source": [
        "<a href=\"https://colab.research.google.com/github/VladimirHofman/learning/blob/main/module_5_2.ipynb\" target=\"_parent\"><img src=\"https://colab.research.google.com/assets/colab-badge.svg\" alt=\"Open In Colab\"/></a>"
      ]
    },
    {
      "cell_type": "code",
      "source": [
        "class House():\n",
        "    def __init__(self, name, number_of_floors):\n",
        "\n",
        "        self.name = name\n",
        "        self.number_of_floors = number_of_floors\n",
        "\n",
        "    def go_to(self, new_floor):\n",
        "\n",
        "\n",
        "        if new_floor > self.number_of_floors or new_floor < 1:\n",
        "            print(\"Такого этажа не существует\")\n",
        "        else:\n",
        "            for n_floor in range(1, new_floor+1):\n",
        "                print(n_floor)\n",
        "    def __len__(self):\n",
        "      return self.number_of_floors\n",
        "\n",
        "    def __str__(self):\n",
        "      return f'Название: {self.name}, кол-во этажей: {self.number_of_floors}'\n",
        "\n",
        "h1 = House('ЖК Горский', 10)\n",
        "h2 = House('Домик в деревне', 20)\n",
        "\n",
        "# __str__\n",
        "print(h1)\n",
        "print(h2)\n",
        "\n",
        "# __len__\n",
        "print(len(h1))\n",
        "print(len(h2))\n",
        "#h1.go_to(5)\n",
        "#h2.go_to(10)\n"
      ],
      "metadata": {
        "colab": {
          "base_uri": "https://localhost:8080/"
        },
        "id": "Um3gGPSq27o6",
        "outputId": "b8ca98b6-f08a-474c-9109-be20d66b72e1"
      },
      "execution_count": 13,
      "outputs": [
        {
          "output_type": "stream",
          "name": "stdout",
          "text": [
            "Название: ЖК Горский, кол-во этажей: 10\n",
            "Название: Домик в деревне, кол-во этажей: 20\n",
            "10\n",
            "20\n"
          ]
        }
      ]
    }
  ]
}
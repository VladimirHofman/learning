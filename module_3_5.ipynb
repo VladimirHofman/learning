{
  "nbformat": 4,
  "nbformat_minor": 0,
  "metadata": {
    "colab": {
      "provenance": [],
      "authorship_tag": "ABX9TyMC76s8AGVdQFYaRnNvG3G3",
      "include_colab_link": true
    },
    "kernelspec": {
      "name": "python3",
      "display_name": "Python 3"
    },
    "language_info": {
      "name": "python"
    }
  },
  "cells": [
    {
      "cell_type": "markdown",
      "metadata": {
        "id": "view-in-github",
        "colab_type": "text"
      },
      "source": [
        "<a href=\"https://colab.research.google.com/github/VladimirHofman/learning/blob/main/module_3_5.ipynb\" target=\"_parent\"><img src=\"https://colab.research.google.com/assets/colab-badge.svg\" alt=\"Open In Colab\"/></a>"
      ]
    },
    {
      "cell_type": "code",
      "source": [
        "def get_multiplied_digits(number):\n",
        "\n",
        "  str_number  = str(number)\n",
        "\n",
        "  first = int(str_number[0])\n",
        "\n",
        "  if len(str_number) > 1:\n",
        "    return first*get_multiplied_digits(int(str_number[1:]))\n",
        "\n",
        "  else:\n",
        "    return int(str_number)\n",
        "\n",
        "\n",
        "result = get_multiplied_digits(40203)\n",
        "print(result)\n",
        "\n",
        "\n"
      ],
      "metadata": {
        "colab": {
          "base_uri": "https://localhost:8080/"
        },
        "id": "PCdpkXbGR6uW",
        "outputId": "5846d9d7-298f-4af4-b0c5-1b8e3566a314"
      },
      "execution_count": 11,
      "outputs": [
        {
          "output_type": "stream",
          "name": "stdout",
          "text": [
            "24\n"
          ]
        }
      ]
    }
  ]
}
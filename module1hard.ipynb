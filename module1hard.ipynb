{
  "nbformat": 4,
  "nbformat_minor": 0,
  "metadata": {
    "colab": {
      "provenance": [],
      "authorship_tag": "ABX9TyOJwGGse7iWPbPVchRi6PMa",
      "include_colab_link": true
    },
    "kernelspec": {
      "name": "python3",
      "display_name": "Python 3"
    },
    "language_info": {
      "name": "python"
    }
  },
  "cells": [
    {
      "cell_type": "markdown",
      "metadata": {
        "id": "view-in-github",
        "colab_type": "text"
      },
      "source": [
        "<a href=\"https://colab.research.google.com/github/VladimirHofman/learning/blob/main/module1hard.ipynb\" target=\"_parent\"><img src=\"https://colab.research.google.com/assets/colab-badge.svg\" alt=\"Open In Colab\"/></a>"
      ]
    },
    {
      "cell_type": "markdown",
      "source": [
        "На вход даны следующие данные:\n",
        "\n",
        "    Список: grades = [[5, 3, 3, 5, 4], [2, 2, 2, 3], [4, 5, 5, 2], [4, 4, 3], [5, 5, 5, 4, 5]]\n",
        "    Множество: students = {'Johnny', 'Bilbo', 'Steve', 'Khendrik', 'Aaron'}\n",
        "\n",
        "\n",
        "    Список grades содержит списки оценок для каждого ученика в алфавитном порядке.\n",
        "\n",
        "Например: 'Aaron' - [5, 3, 3, 5, 4]\n",
        "\n",
        "    Множество students содержит неупорядоченную последовательность имён всех учеников в классе.\n",
        "\n",
        "\n",
        "Напишите программу, которая составляет словарь, используя grades и students, где ключом будет имя ученика, а значением - его средний балл."
      ],
      "metadata": {
        "id": "GRQ4mBzwKbR9"
      }
    },
    {
      "cell_type": "code",
      "source": [
        "grades = [[5, 3, 3, 5, 4], [2, 2, 2, 3], [4, 5, 5, 2], [4, 4, 3], [5, 5, 5, 4, 5]]\n",
        "students = {'Johnny', 'Bilbo', 'Steve', 'Khendrik', 'Aaron'}\n",
        "st_list = sorted(students)\n",
        "midle_grades = []\n",
        "for i in grades:\n",
        "\n",
        "  midle_grades.append(sum(i)/len(i))\n",
        "\n",
        "dict_students = dict(zip(st_list, midle_grades))\n",
        "print(dict_students)\n",
        "\n",
        "\n",
        "\n",
        "\n"
      ],
      "metadata": {
        "colab": {
          "base_uri": "https://localhost:8080/"
        },
        "id": "WpA-JPX2KfDv",
        "outputId": "9c8bb467-ff22-4540-a20a-957829919454"
      },
      "execution_count": 96,
      "outputs": [
        {
          "output_type": "stream",
          "name": "stdout",
          "text": [
            "{'Aaron': 4.0, 'Bilbo': 2.25, 'Johnny': 4.0, 'Khendrik': 3.6666666666666665, 'Steve': 4.8}\n"
          ]
        }
      ]
    }
  ]
}
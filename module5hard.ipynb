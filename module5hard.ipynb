{
  "nbformat": 4,
  "nbformat_minor": 0,
  "metadata": {
    "colab": {
      "provenance": [],
      "authorship_tag": "ABX9TyMUUtTH7ig5ij88thhgSLXC",
      "include_colab_link": true
    },
    "kernelspec": {
      "name": "python3",
      "display_name": "Python 3"
    },
    "language_info": {
      "name": "python"
    }
  },
  "cells": [
    {
      "cell_type": "markdown",
      "metadata": {
        "id": "view-in-github",
        "colab_type": "text"
      },
      "source": [
        "<a href=\"https://colab.research.google.com/github/VladimirHofman/learning/blob/main/module5hard.ipynb\" target=\"_parent\"><img src=\"https://colab.research.google.com/assets/colab-badge.svg\" alt=\"Open In Colab\"/></a>"
      ]
    },
    {
      "cell_type": "code",
      "source": [
        "import hashlib\n",
        "import time\n",
        "\n",
        "class User:\n",
        "    def __init__(self, nickname, password, age):\n",
        "        self.nickname = nickname\n",
        "        self.password = self._hash_password(password)\n",
        "        self.age = age\n",
        "\n",
        "    def _hash_password(self, password):\n",
        "        return int(hashlib.sha256(password.encode()).hexdigest(), 16)\n",
        "\n",
        "class Video:\n",
        "    def __init__(self, title, duration, adult_mode=False):\n",
        "        self.title = title\n",
        "        self.duration = duration\n",
        "        self.time_now = 0\n",
        "        self.adult_mode = adult_mode\n",
        "\n",
        "class UrTube:\n",
        "    def __init__(self):\n",
        "        self.users = []\n",
        "        self.videos = []\n",
        "        self.current_user = None\n",
        "\n",
        "    def log_in(self, nickname, password):\n",
        "        password_hash = int(hashlib.sha256(password.encode()).hexdigest(), 16)\n",
        "        for user in self.users:\n",
        "            if user.nickname == nickname and user.password == password_hash:\n",
        "                self.current_user = user\n",
        "                return\n",
        "        print(\"Неправильный логин или пароль\")\n",
        "\n",
        "    def register(self, nickname, password, age):\n",
        "        for user in self.users:\n",
        "            if user.nickname == nickname:\n",
        "                print(f\"Пользователь {nickname} уже существует\")\n",
        "                return\n",
        "        self.users.append(User(nickname, password, age))\n",
        "        self.log_in(nickname, password)\n",
        "\n",
        "    def log_out(self):\n",
        "        self.current_user = None\n",
        "\n",
        "    def add(self, *videos):\n",
        "        for video in videos:\n",
        "            if video.title not in [v.title for v in self.videos]:\n",
        "                self.videos.append(video)\n",
        "\n",
        "    def get_videos(self, search_word):\n",
        "        return [v.title for v in self.videos if search_word.lower() in v.title.lower()]\n",
        "\n",
        "    def watch_video(self, title):\n",
        "        if not self.current_user:\n",
        "            print(\"Войдите в аккаунт, чтобы смотреть видео\")\n",
        "            return\n",
        "        for video in self.videos:\n",
        "            if video.title == title:\n",
        "                if video.adult_mode and self.current_user.age < 18:\n",
        "                    print(\"Вам нет 18 лет, пожалуйста покиньте страницу\")\n",
        "                    return\n",
        "                for i in range(video.time_now, video.duration):\n",
        "                    print(i + 1)\n",
        "                    time.sleep(1)\n",
        "                print(\"Конец видео\")\n",
        "                video.time_now = 0\n",
        "                return\n",
        "        print(\"Видео не найдено\")\n",
        "\n",
        "# Код для проверки\n",
        "ur = UrTube()\n",
        "v1 = Video('Лучший язык программирования 2024 года', 200)\n",
        "v2 = Video('Для чего девушкам парень программист?', 10, adult_mode=True)\n",
        "\n",
        "# Добавление видео\n",
        "ur.add(v1, v2)\n",
        "\n",
        "# Проверка поиска\n",
        "print(ur.get_videos('лучший'))\n",
        "print(ur.get_videos('ПРОГ'))\n",
        "\n",
        "# Проверка на вход пользователя и возрастное ограничение\n",
        "ur.watch_video('Для чего девушкам парень программист?')\n",
        "ur.register('vasya_pupkin', 'lolkekcheburek', 13)\n",
        "ur.watch_video('Для чего девушкам парень программист?')\n",
        "ur.register('urban_pythonist', 'iScX4vIJClb9YQavjAgF', 25)\n",
        "ur.watch_video('Для чего девушкам парень программист?')\n",
        "\n",
        "# Проверка входа в другой аккаунт\n",
        "ur.register('vasya_pupkin', 'F8098FM8fjm9jmi', 55)\n",
        "print(ur.current_user.nickname)\n",
        "\n",
        "# Попытка воспроизведения несуществующего видео\n",
        "ur.watch_video('Лучший язык программирования 2024 года!')"
      ],
      "metadata": {
        "colab": {
          "base_uri": "https://localhost:8080/"
        },
        "id": "IK6tK-2OPsaO",
        "outputId": "b1cd4be9-ac75-4376-f7d5-354cbd4f6890"
      },
      "execution_count": 1,
      "outputs": [
        {
          "output_type": "stream",
          "name": "stdout",
          "text": [
            "['Лучший язык программирования 2024 года']\n",
            "['Лучший язык программирования 2024 года', 'Для чего девушкам парень программист?']\n",
            "Войдите в аккаунт, чтобы смотреть видео\n",
            "Вам нет 18 лет, пожалуйста покиньте страницу\n",
            "1\n",
            "2\n",
            "3\n",
            "4\n",
            "5\n",
            "6\n",
            "7\n",
            "8\n",
            "9\n",
            "10\n",
            "Конец видео\n",
            "Пользователь vasya_pupkin уже существует\n",
            "urban_pythonist\n",
            "Видео не найдено\n"
          ]
        }
      ]
    }
  ]
}
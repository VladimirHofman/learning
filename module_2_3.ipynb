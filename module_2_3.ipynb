{
  "nbformat": 4,
  "nbformat_minor": 0,
  "metadata": {
    "colab": {
      "provenance": [],
      "authorship_tag": "ABX9TyNxmIGA6/Wuhfg5RAtqYNzM",
      "include_colab_link": true
    },
    "kernelspec": {
      "name": "python3",
      "display_name": "Python 3"
    },
    "language_info": {
      "name": "python"
    }
  },
  "cells": [
    {
      "cell_type": "markdown",
      "metadata": {
        "id": "view-in-github",
        "colab_type": "text"
      },
      "source": [
        "<a href=\"https://colab.research.google.com/github/VladimirHofman/learning/blob/main/module_2_3.ipynb\" target=\"_parent\"><img src=\"https://colab.research.google.com/assets/colab-badge.svg\" alt=\"Open In Colab\"/></a>"
      ]
    },
    {
      "cell_type": "markdown",
      "source": [
        "Задача \"Нули ничто, отрицание недопустимо!\":\n",
        "Дан список чисел [42, 69, 322, 13, 0, 99, -5, 9, 8, 7, -6, 5]\n",
        "Нужно выписывать из этого списка только положительные числа до тех пор, пока не встретите отрицательное или не закончится список (выход за границу).\n",
        "\n",
        "Пункты задачи:\n",
        "\n",
        "    Запишите исходный список в переменную my_list.\n",
        "    Напишите цикл while с соответствующими задаче условиями.\n",
        "    Используйте операторы прерывания/продолжения цикла в соответствии с условиями задачи."
      ],
      "metadata": {
        "id": "qSEOTEEy6kRM"
      }
    },
    {
      "cell_type": "code",
      "source": [
        "my_list =  [42, 69, 322, 16, 0, 99, -5, 9, 8, 7, -6, 5, 23, 0, 46, 244]\n",
        "i = 0\n",
        "while len(my_list) - i:\n",
        "\n",
        "  if my_list[i] != 0 and my_list[i] > 0:\n",
        "    print(my_list[i])\n",
        "\n",
        "  elif my_list[i] < 0:\n",
        "    break\n",
        "\n",
        "  i  = i + 1"
      ],
      "metadata": {
        "id": "ZWybs_RKLmO5",
        "colab": {
          "base_uri": "https://localhost:8080/"
        },
        "outputId": "1d8bc81b-a82a-4fa2-fcca-d92a006e58ae"
      },
      "execution_count": 6,
      "outputs": [
        {
          "output_type": "stream",
          "name": "stdout",
          "text": [
            "42\n",
            "69\n",
            "322\n",
            "16\n",
            "99\n"
          ]
        }
      ]
    }
  ]
}
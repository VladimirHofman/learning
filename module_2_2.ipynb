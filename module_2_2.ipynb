{
  "nbformat": 4,
  "nbformat_minor": 0,
  "metadata": {
    "colab": {
      "provenance": [],
      "authorship_tag": "ABX9TyOfFootNnM7Tp3uNVYUcEpc",
      "include_colab_link": true
    },
    "kernelspec": {
      "name": "python3",
      "display_name": "Python 3"
    },
    "language_info": {
      "name": "python"
    }
  },
  "cells": [
    {
      "cell_type": "markdown",
      "metadata": {
        "id": "view-in-github",
        "colab_type": "text"
      },
      "source": [
        "<a href=\"https://colab.research.google.com/github/VladimirHofman/learning/blob/main/module_2_2.ipynb\" target=\"_parent\"><img src=\"https://colab.research.google.com/assets/colab-badge.svg\" alt=\"Open In Colab\"/></a>"
      ]
    },
    {
      "cell_type": "markdown",
      "source": [
        "Задача \"Все ли равны?\":\n",
        "На вход программе подаются 3 целых числа и записываются в переменные first, second и third соответственно.\n",
        "Ваша задача написать условную конструкцию (из if, elif, else), которая выводит кол-во одинаковых чисел среди 3-х введённых.\n",
        "\n",
        "Пункты задачи:\n",
        "\n",
        "    Если все числа равны между собой, то вывести 3\n",
        "    Если хотя бы 2 из 3 введённых чисел равны между собой, то вывести 2\n",
        "    Если равных чисел среди 3-х вообще нет, то вывести 0"
      ],
      "metadata": {
        "id": "GRQ4mBzwKbR9"
      }
    },
    {
      "cell_type": "code",
      "source": [
        "print('Ввод')\n",
        "first = int(input())\n",
        "second = int(input())\n",
        "third = int(input())\n",
        "print('Вывод')\n",
        "if first == second == third:\n",
        "  print('3')\n",
        "elif first == second or first == third or third == second:\n",
        "  print('2')\n",
        "else:\n",
        "  print('0')\n",
        "\n",
        "\n"
      ],
      "metadata": {
        "colab": {
          "base_uri": "https://localhost:8080/"
        },
        "id": "WpA-JPX2KfDv",
        "outputId": "8fca8869-477f-4bab-cf3d-5fcf6d011fc3"
      },
      "execution_count": 7,
      "outputs": [
        {
          "output_type": "stream",
          "name": "stdout",
          "text": [
            "Ввод\n",
            "2\n",
            "23\n",
            "2\n",
            "Вывод\n",
            "2\n"
          ]
        }
      ]
    }
  ]
}
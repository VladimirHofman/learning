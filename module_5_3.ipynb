{
  "nbformat": 4,
  "nbformat_minor": 0,
  "metadata": {
    "colab": {
      "provenance": [],
      "authorship_tag": "ABX9TyNCyF8UBs6+qr1iJWXjIwNF",
      "include_colab_link": true
    },
    "kernelspec": {
      "name": "python3",
      "display_name": "Python 3"
    },
    "language_info": {
      "name": "python"
    }
  },
  "cells": [
    {
      "cell_type": "markdown",
      "metadata": {
        "id": "view-in-github",
        "colab_type": "text"
      },
      "source": [
        "<a href=\"https://colab.research.google.com/github/VladimirHofman/learning/blob/main/module_5_3.ipynb\" target=\"_parent\"><img src=\"https://colab.research.google.com/assets/colab-badge.svg\" alt=\"Open In Colab\"/></a>"
      ]
    },
    {
      "cell_type": "code",
      "source": [
        " class House:\n",
        "    def __init__(self, name, floors):\n",
        "        self.name = name\n",
        "        self.floors = floors\n",
        "\n",
        "    def __str__(self):\n",
        "        return f'Название: {self.name}, кол-во этажей: {self.floors}'\n",
        "\n",
        "    def __eq__(self, other):\n",
        "        if isinstance(other, House):\n",
        "            return self.floors == other.floors\n",
        "        elif isinstance(other, int):\n",
        "            return self.floors == other\n",
        "        else:\n",
        "            raise TypeError('Неподдерживаемый тип для сравнения')\n",
        "\n",
        "    def __lt__(self, other):\n",
        "        if isinstance(other, House):\n",
        "            return self.floors < other.floors\n",
        "        elif isinstance(other, int):\n",
        "            return self.floors < other\n",
        "        else:\n",
        "            raise TypeError('Неподдерживаемый тип для сравнения')\n",
        "\n",
        "    def __le__(self, other):\n",
        "        if isinstance(other, House):\n",
        "            return self.floors <= other.floors\n",
        "        elif isinstance(other, int):\n",
        "            return self.floors <= other\n",
        "        else:\n",
        "            raise TypeError('Неподдерживаемый тип для сравнения')\n",
        "\n",
        "    def __gt__(self, other):\n",
        "        if isinstance(other, House):\n",
        "            return self.floors > other.floors\n",
        "        elif isinstance(other, int):\n",
        "            return self.floors > other\n",
        "        else:\n",
        "            raise TypeError('Неподдерживаемый тип для сравнения')\n",
        "\n",
        "    def __ge__(self, other):\n",
        "        if isinstance(other, House):\n",
        "            return self.floors >= other.floors\n",
        "        elif isinstance(other, int):\n",
        "            return self.floors >= other\n",
        "        else:\n",
        "            raise TypeError('Неподдерживаемый тип для сравнения')\n",
        "\n",
        "    def __ne__(self, other):\n",
        "        if isinstance(other, House):\n",
        "            return self.floors != other.floors\n",
        "        elif isinstance(other, int):\n",
        "            return self.floors != other\n",
        "        else:\n",
        "            raise TypeError('Неподдерживаемый тип для сравнения')\n",
        "\n",
        "    def __add__(self, value):\n",
        "        if isinstance(value, int):\n",
        "            self.floors += value\n",
        "            return self\n",
        "        else:\n",
        "            raise TypeError('Неподдерживаемый тип для сложения')\n",
        "\n",
        "    def __radd__(self, value):\n",
        "        return self.__add__(value)\n",
        "\n",
        "    def __iadd__(self, value):\n",
        "        return self.__add__(value)\n",
        "\n",
        "# Пример использования\n",
        "h1 = House('ЖК Эльбрус', 10)\n",
        "h2 = House('ЖК Акация', 20)\n",
        "\n",
        "print(h1)\n",
        "print(h2)\n",
        "\n",
        "print(h1 == h2) # __eq__\n",
        "\n",
        "h1 = h1 + 10 # __add__\n",
        "print(h1)\n",
        "print(h1 == h2)\n",
        "\n",
        "h1 += 10 # __iadd__\n",
        "print(h1)\n",
        "\n",
        "h2 = 10 + h2 # __radd__\n",
        "print(h2)\n",
        "\n",
        "print(h1 > h2) # __gt__\n",
        "print(h1 >= h2) # __ge__\n",
        "print(h1 < h2) # __lt__\n",
        "print(h1 <= h2) # __le__\n",
        "print(h1 != h2) # __ne__"
      ],
      "metadata": {
        "colab": {
          "base_uri": "https://localhost:8080/"
        },
        "id": "97XF5JrxQt55",
        "outputId": "6d8eec09-2ebb-4345-a6ae-2a52da229e94"
      },
      "execution_count": null,
      "outputs": [
        {
          "output_type": "stream",
          "name": "stdout",
          "text": [
            "Название: ЖК Эльбрус, кол-во этажей: 10\n",
            "Название: ЖК Акация, кол-во этажей: 20\n",
            "False\n",
            "Название: ЖК Эльбрус, кол-во этажей: 20\n",
            "True\n",
            "Название: ЖК Эльбрус, кол-во этажей: 30\n",
            "Название: ЖК Акация, кол-во этажей: 30\n",
            "False\n",
            "True\n",
            "False\n",
            "True\n",
            "False\n"
          ]
        }
      ]
    },
    {
      "cell_type": "code",
      "source": [],
      "metadata": {
        "id": "R0PJB9cXqIb4"
      },
      "execution_count": null,
      "outputs": []
    }
  ]
}
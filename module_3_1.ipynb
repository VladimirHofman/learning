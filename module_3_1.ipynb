{
  "nbformat": 4,
  "nbformat_minor": 0,
  "metadata": {
    "colab": {
      "provenance": [],
      "authorship_tag": "ABX9TyNGPSLrljehEt5O/GVRNGk7",
      "include_colab_link": true
    },
    "kernelspec": {
      "name": "python3",
      "display_name": "Python 3"
    },
    "language_info": {
      "name": "python"
    }
  },
  "cells": [
    {
      "cell_type": "markdown",
      "metadata": {
        "id": "view-in-github",
        "colab_type": "text"
      },
      "source": [
        "<a href=\"https://colab.research.google.com/github/VladimirHofman/learning/blob/main/module_3_1.ipynb\" target=\"_parent\"><img src=\"https://colab.research.google.com/assets/colab-badge.svg\" alt=\"Open In Colab\"/></a>"
      ]
    },
    {
      "cell_type": "code",
      "execution_count": 10,
      "metadata": {
        "colab": {
          "base_uri": "https://localhost:8080/"
        },
        "id": "m8ujXiqrrWdy",
        "outputId": "66d1318f-b5a5-499f-ee20-4c871614582c"
      },
      "outputs": [
        {
          "output_type": "stream",
          "name": "stdout",
          "text": [
            "(8, 'CAPYBARA', 'capybara')\n",
            "(10, 'ARMAGEDDON', 'armageddon')\n",
            "True\n",
            "False\n",
            "4\n"
          ]
        }
      ],
      "source": [
        "calls = 0\n",
        "\n",
        "def count_calls():\n",
        "\n",
        "    global calls\n",
        "    calls = calls + 1\n",
        "\n",
        "def string_info(string):\n",
        "\n",
        "    tup = (len(string), string.upper(), string.lower())\n",
        "    count_calls()\n",
        "    return  tup\n",
        "\n",
        "def is_contains(string, list_to_search):\n",
        "\n",
        "    upper_string = string.upper()\n",
        "    upper_list = [x.upper() for x in list_to_search]\n",
        "    count_calls()\n",
        "    return upper_string in upper_list\n",
        "\n",
        "\n",
        "\n",
        "print(string_info('Capybara'))\n",
        "print(string_info('Armageddon'))\n",
        "print(is_contains('Urban', ['ban', 'BaNaN', 'urBAN']))\n",
        "print(is_contains('cycle', ['recycling', 'cyclic']))\n",
        "print(calls)"
      ]
    },
    {
      "cell_type": "code",
      "source": [],
      "metadata": {
        "id": "IizuvnkajfCH"
      },
      "execution_count": null,
      "outputs": []
    },
    {
      "cell_type": "code",
      "source": [
        "calls = 0\n",
        "\n",
        "def count_calls():\n",
        "  global calls\n",
        "  calls = calls + 1\n",
        "  return calls\n",
        "\n",
        "def string_info(string):\n",
        "  tup = (len(string), string.upper(), string.lower())\n",
        "\n",
        "  count_calls()\n",
        "  return  print(tup)\n",
        "\n",
        "def is_contains(string, list_to_search):\n",
        "\n",
        "  new_li = [x.lower() for x in list_to_search]\n",
        "  new_str = string.lower()\n",
        "\n",
        "  count_calls()\n",
        "  return new_str in new_li\n",
        "\n",
        "\n",
        "count_calls()\n",
        "count_calls()\n",
        "count_calls()\n",
        "\n",
        "a = string_info('Urban')\n",
        "b = is_contains('UrbaN ', ['URBaN', 'HEllo'])\n",
        "print(b)\n",
        "print(f'Кол. вызовов: {calls}')"
      ],
      "metadata": {
        "colab": {
          "base_uri": "https://localhost:8080/"
        },
        "id": "UWH0A_r_CgG9",
        "outputId": "1aba2b1f-e5f3-4419-894a-fa4c22a92217"
      },
      "execution_count": 2,
      "outputs": [
        {
          "output_type": "stream",
          "name": "stdout",
          "text": [
            "(5, 'URBAN', 'urban')\n",
            "False\n",
            "Кол. вызовов: 5\n"
          ]
        }
      ]
    }
  ]
}
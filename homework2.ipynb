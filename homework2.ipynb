{
  "nbformat": 4,
  "nbformat_minor": 0,
  "metadata": {
    "colab": {
      "provenance": [],
      "authorship_tag": "ABX9TyMKFKwU2QS9AnlNNVFPs2qI",
      "include_colab_link": true
    },
    "kernelspec": {
      "name": "python3",
      "display_name": "Python 3"
    },
    "language_info": {
      "name": "python"
    }
  },
  "cells": [
    {
      "cell_type": "markdown",
      "metadata": {
        "id": "view-in-github",
        "colab_type": "text"
      },
      "source": [
        "<a href=\"https://colab.research.google.com/github/VladimirHofman/learning/blob/main/homework2.ipynb\" target=\"_parent\"><img src=\"https://colab.research.google.com/assets/colab-badge.svg\" alt=\"Open In Colab\"/></a>"
      ]
    },
    {
      "cell_type": "markdown",
      "source": [
        "\n",
        "1. В проекте, где вы решаете домашние задания, создайте модуль 'homework5.py' и напишите весь код в нём.\n",
        "\n",
        "2. Задайте переменные разных типов данных:\n",
        "  - Создайте переменную immutable_var и присвойте ей кортеж из нескольких элементов разных типов данных.\n",
        "  - Выполните операции вывода кортежа immutable_var на экран.\n",
        "\n",
        "3. Изменение значений переменных:\n",
        "  - Попытайтесь изменить элементы кортежа immutable_var. Объясните, почему нельзя изменить значения элементов кортежа.\n",
        "\n",
        "4. Создание изменяемых структур данных:\n",
        "  - Создайте переменную mutable_list и присвойте ей список из нескольких элементов.\n",
        "  - Измените элементы списка mutable_list.\n",
        "  - Выведите на экран измененный список mutable_list."
      ],
      "metadata": {
        "id": "GRQ4mBzwKbR9"
      }
    },
    {
      "cell_type": "code",
      "source": [
        "immutable_var = ([1,2,3], 12.4, 13, 'Teleport')\n",
        "mutable_list = [[1,2,3], 12.4, 13, 'Teleport']\n",
        "print('Неизменяемый кортеж: ', immutable_var)\n",
        "print('Изменяемый список: ', mutable_list )\n"
      ],
      "metadata": {
        "colab": {
          "base_uri": "https://localhost:8080/"
        },
        "id": "WpA-JPX2KfDv",
        "outputId": "ef3bf161-d974-4ba4-e32d-1e4122910c2d"
      },
      "execution_count": 3,
      "outputs": [
        {
          "output_type": "stream",
          "name": "stdout",
          "text": [
            "Неизменяемый кортеж:  ([1, 2, 3], 12.4, 13, 'Teleport')\n",
            "Изменяемый список:  [[1, 2, 3], 12.4, 13, 'Teleport']\n"
          ]
        }
      ]
    }
  ]
}
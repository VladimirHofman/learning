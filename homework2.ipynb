{
  "nbformat": 4,
  "nbformat_minor": 0,
  "metadata": {
    "colab": {
      "provenance": [],
      "authorship_tag": "ABX9TyORSfsIrpu55H+yCW76IQRw",
      "include_colab_link": true
    },
    "kernelspec": {
      "name": "python3",
      "display_name": "Python 3"
    },
    "language_info": {
      "name": "python"
    }
  },
  "cells": [
    {
      "cell_type": "markdown",
      "metadata": {
        "id": "view-in-github",
        "colab_type": "text"
      },
      "source": [
        "<a href=\"https://colab.research.google.com/github/VladimirHofman/learning/blob/main/homework2.ipynb\" target=\"_parent\"><img src=\"https://colab.research.google.com/assets/colab-badge.svg\" alt=\"Open In Colab\"/></a>"
      ]
    },
    {
      "cell_type": "markdown",
      "source": [
        "Напишите 4 переменных которые буду обозначать следующие данные:\n",
        "\n",
        "    Количество выполненных ДЗ (запишите значение 12)\n",
        "    Количество затраченных часов (запишите значение 1.5)\n",
        "    Название курса (запишите значение 'Python')\n",
        "    Время на одно задание (вычислить используя 1 и 2 переменные)\n",
        "\n",
        "Выведите на экран(в консоль), используя переменные, следующую строку:\n",
        "Курс: Python, всего задач:12, затрачено часов: 1.5, среднее время выполнения 0.125 часа.\n",
        "\n",
        "\n"
      ],
      "metadata": {
        "id": "JO2XKm4TieB4"
      }
    },
    {
      "cell_type": "code",
      "source": [
        "n_homework = 12 #Количество выполненных ДЗ\n",
        "n_hour = 1.5 #Количество затраченных часов\n",
        "kurs_name = 'Python'\n",
        "homework_runtime = n_hour/n_homework #Время на одно задание\n",
        "\n",
        "print(f\"Курс:{kurs_name}, всего задач:{n_homework}, затрачено часов: {n_hour}, среднее время выполнения {homework_runtime} часа.\")"
      ],
      "metadata": {
        "colab": {
          "base_uri": "https://localhost:8080/"
        },
        "id": "k1E65ed9imbh",
        "outputId": "0eb6efaa-c60c-4a31-e4e4-1eeb71b0cbd0"
      },
      "execution_count": 5,
      "outputs": [
        {
          "output_type": "stream",
          "name": "stdout",
          "text": [
            "Курс:Python, всего задач:12, затрачено часов: 1.5, среднее время выполнения 0.125 часа.\n"
          ]
        }
      ]
    }
  ]
}
{
  "nbformat": 4,
  "nbformat_minor": 0,
  "metadata": {
    "colab": {
      "provenance": [],
      "authorship_tag": "ABX9TyPc+IB9KgAQrTm3+FL9s78D",
      "include_colab_link": true
    },
    "kernelspec": {
      "name": "python3",
      "display_name": "Python 3"
    },
    "language_info": {
      "name": "python"
    }
  },
  "cells": [
    {
      "cell_type": "markdown",
      "metadata": {
        "id": "view-in-github",
        "colab_type": "text"
      },
      "source": [
        "<a href=\"https://colab.research.google.com/github/VladimirHofman/learning/blob/main/module_6_3.ipynb\" target=\"_parent\"><img src=\"https://colab.research.google.com/assets/colab-badge.svg\" alt=\"Open In Colab\"/></a>"
      ]
    },
    {
      "cell_type": "code",
      "source": [
        "class Horse:\n",
        "    def __init__(self):\n",
        "        self.x_distance = 0\n",
        "        self.sound = 'Frrr'\n",
        "\n",
        "    def run(self, dx):\n",
        "        self.x_distance += dx\n",
        "\n",
        "\n",
        "class Eagle:\n",
        "    def __init__(self):\n",
        "        self.y_distance = 0\n",
        "        self.sound = 'I train, eat, sleep, and repeat'\n",
        "\n",
        "    def fly(self, dy):\n",
        "        self.y_distance += dy\n",
        "\n",
        "\n",
        "class Pegasus(Horse, Eagle):\n",
        "    def __init__(self):\n",
        "        super().__init__()\n",
        "        Eagle.__init__(self)\n",
        "\n",
        "    def move(self, dx, dy):\n",
        "        self.run(dx)\n",
        "        self.fly(dy)\n",
        "\n",
        "    def get_pos(self):\n",
        "        return (self.x_distance, self.y_distance)\n",
        "\n",
        "    def voice(self):\n",
        "        print(self.sound)\n",
        "\n",
        "\n",
        "p1 = Pegasus()\n",
        "\n",
        "print(p1.get_pos())\n",
        "p1.move(10, 15)\n",
        "print(p1.get_pos())\n",
        "p1.move(-5, 20)\n",
        "print(p1.get_pos())\n",
        "\n",
        "p1.voice()"
      ],
      "metadata": {
        "colab": {
          "base_uri": "https://localhost:8080/"
        },
        "id": "Jfvw5KJm6Skq",
        "outputId": "922057fe-544e-4d02-d91d-43283efa1fc7"
      },
      "execution_count": 3,
      "outputs": [
        {
          "output_type": "stream",
          "name": "stdout",
          "text": [
            "(0, 0)\n",
            "(10, 15)\n",
            "(5, 35)\n",
            "I train, eat, sleep, and repeat\n"
          ]
        }
      ]
    }
  ]
}
{
  "nbformat": 4,
  "nbformat_minor": 0,
  "metadata": {
    "colab": {
      "provenance": [],
      "authorship_tag": "ABX9TyPH5Yb+6RNOexvjsdYS+iH7",
      "include_colab_link": true
    },
    "kernelspec": {
      "name": "python3",
      "display_name": "Python 3"
    },
    "language_info": {
      "name": "python"
    }
  },
  "cells": [
    {
      "cell_type": "markdown",
      "metadata": {
        "id": "view-in-github",
        "colab_type": "text"
      },
      "source": [
        "<a href=\"https://colab.research.google.com/github/VladimirHofman/learning/blob/main/homework1.ipynb\" target=\"_parent\"><img src=\"https://colab.research.google.com/assets/colab-badge.svg\" alt=\"Open In Colab\"/></a>"
      ]
    },
    {
      "cell_type": "code",
      "source": [],
      "metadata": {
        "id": "8dxGGkqMu4gu",
        "colab": {
          "base_uri": "https://localhost:8080/"
        },
        "outputId": "a80b9d81-a2db-4892-d1dd-332eddfd9a58"
      },
      "execution_count": null,
      "outputs": [
        {
          "output_type": "stream",
          "name": "stdout",
          "text": [
            "Requirement already satisfied: opencv-python in /usr/local/lib/python3.10/dist-packages (4.8.0.76)\n",
            "Requirement already satisfied: numpy>=1.21.2 in /usr/local/lib/python3.10/dist-packages (from opencv-python) (1.25.2)\n"
          ]
        }
      ]
    },
    {
      "cell_type": "markdown",
      "source": [
        "\n",
        "    В переменную example запишите любую строку.\n",
        "    Выведите на экран(в консоль) первый символ этой строки.\n",
        "    Выведите на экран(в консоль) последний символ этой строки (используя отрицательный индекс).\n",
        "    Выведите на экран(в консоль) вторую половину этой строки (С нечётным количеством символов: 'Urban' -> 'ban').\n",
        "    Выведите на экран(в консоль) это слово наоборот.\n",
        "    Выведите на экран(в консоль) каждый второй символ этой строки. (Пример: 'Топинамбур'->'оиабр')\n",
        "    "
      ],
      "metadata": {
        "id": "GRQ4mBzwKbR9"
      }
    },
    {
      "cell_type": "code",
      "source": [
        "example = 'Топинамбур'\n",
        "\n",
        "print(example[0])\n",
        "print(example[-1])\n",
        "print(example[int(len(example)/2):len(example)])\n",
        "print(example[::-1])\n",
        "print(example[1:len(example):2])\n"
      ],
      "metadata": {
        "colab": {
          "base_uri": "https://localhost:8080/"
        },
        "id": "WpA-JPX2KfDv",
        "outputId": "683f42e2-8585-4ecb-dca5-3dc64f4320eb"
      },
      "execution_count": 58,
      "outputs": [
        {
          "output_type": "stream",
          "name": "stdout",
          "text": [
            "Т\n",
            "р\n",
            "амбур\n",
            "рубманипоТ\n",
            "оиабр\n"
          ]
        }
      ]
    }
  ]
}
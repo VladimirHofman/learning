{
  "nbformat": 4,
  "nbformat_minor": 0,
  "metadata": {
    "colab": {
      "provenance": [],
      "authorship_tag": "ABX9TyNR2P6a8LoY5/jxWUjnFCwJ",
      "include_colab_link": true
    },
    "kernelspec": {
      "name": "python3",
      "display_name": "Python 3"
    },
    "language_info": {
      "name": "python"
    }
  },
  "cells": [
    {
      "cell_type": "markdown",
      "metadata": {
        "id": "view-in-github",
        "colab_type": "text"
      },
      "source": [
        "<a href=\"https://colab.research.google.com/github/VladimirHofman/learning/blob/main/homework1.ipynb\" target=\"_parent\"><img src=\"https://colab.research.google.com/assets/colab-badge.svg\" alt=\"Open In Colab\"/></a>"
      ]
    },
    {
      "cell_type": "markdown",
      "source": [
        "\n",
        "    В переменную example запишите любую строку.\n",
        "    Выведите на экран(в консоль) первый символ этой строки.\n",
        "    Выведите на экран(в консоль) последний символ этой строки (используя отрицательный индекс).\n",
        "    Выведите на экран(в консоль) вторую половину этой строки (С нечётным количеством символов: 'Urban' -> 'ban').\n",
        "    Выведите на экран(в консоль) это слово наоборот.\n",
        "    Выведите на экран(в консоль) каждый второй символ этой строки. (Пример: 'Топинамбур'->'оиабр')\n",
        "    "
      ],
      "metadata": {
        "id": "GRQ4mBzwKbR9"
      }
    },
    {
      "cell_type": "code",
      "source": [
        "example = 'Топинамбур'\n",
        "\n",
        "print(example[0])\n",
        "print(example[-1])\n",
        "print(example[int(len(example)/2):len(example)])\n",
        "print(example[::-1])\n",
        "print(example[1:len(example):2])\n"
      ],
      "metadata": {
        "colab": {
          "base_uri": "https://localhost:8080/"
        },
        "id": "WpA-JPX2KfDv",
        "outputId": "683f42e2-8585-4ecb-dca5-3dc64f4320eb"
      },
      "execution_count": null,
      "outputs": [
        {
          "output_type": "stream",
          "name": "stdout",
          "text": [
            "Т\n",
            "р\n",
            "амбур\n",
            "рубманипоТ\n",
            "оиабр\n"
          ]
        }
      ]
    }
  ]
}
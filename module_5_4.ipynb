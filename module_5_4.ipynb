{
  "nbformat": 4,
  "nbformat_minor": 0,
  "metadata": {
    "colab": {
      "provenance": [],
      "authorship_tag": "ABX9TyMJEBIEdFQgvfBBoyNEIfqp",
      "include_colab_link": true
    },
    "kernelspec": {
      "name": "python3",
      "display_name": "Python 3"
    },
    "language_info": {
      "name": "python"
    }
  },
  "cells": [
    {
      "cell_type": "markdown",
      "metadata": {
        "id": "view-in-github",
        "colab_type": "text"
      },
      "source": [
        "<a href=\"https://colab.research.google.com/github/VladimirHofman/learning/blob/main/module_5_4.ipynb\" target=\"_parent\"><img src=\"https://colab.research.google.com/assets/colab-badge.svg\" alt=\"Open In Colab\"/></a>"
      ]
    },
    {
      "cell_type": "code",
      "source": [
        "class House:\n",
        "    houses_history = []\n",
        "\n",
        "    def __new__(cls, *args, **kwargs):\n",
        "        instance = super().__new__(cls)\n",
        "        cls.houses_history.append(args[0])\n",
        "        return instance\n",
        "\n",
        "    def __init__(self, name, floors):\n",
        "        self.name = name\n",
        "        self.floors = floors\n",
        "\n",
        "    def __del__(self):\n",
        "        print(f\"{self.name} снесён, но он останется в истории\")\n",
        "\n",
        "# Создание объектов класса House\n",
        "h1 = House('ЖК Эльбрус', 10)\n",
        "print(House.houses_history)\n",
        "h2 = House('ЖК Акация', 20)\n",
        "print(House.houses_history)\n",
        "h3 = House('ЖК Матрёшки', 20)\n",
        "print(House.houses_history)\n",
        "\n",
        "# Удаление объектов\n",
        "del h2\n",
        "del h3\n",
        "\n",
        "print(House.houses_history)\n",
        "del h1\n",
        "print(House.houses_history)"
      ],
      "metadata": {
        "colab": {
          "base_uri": "https://localhost:8080/"
        },
        "id": "-K423SWyeXCR",
        "outputId": "d03ae399-1471-4b80-cf66-03cd3abd4730"
      },
      "execution_count": 28,
      "outputs": [
        {
          "output_type": "stream",
          "name": "stdout",
          "text": [
            "['ЖК Эльбрус']\n",
            "['ЖК Эльбрус', 'ЖК Акация']\n",
            "['ЖК Эльбрус', 'ЖК Акация', 'ЖК Матрёшки']\n",
            "ЖК Акация снесён, но он останется в истории\n",
            "ЖК Матрёшки снесён, но он останется в истории\n",
            "['ЖК Эльбрус', 'ЖК Акация', 'ЖК Матрёшки']\n",
            "ЖК Эльбрус снесён, но он останется в истории\n",
            "['ЖК Эльбрус', 'ЖК Акация', 'ЖК Матрёшки']\n"
          ]
        }
      ]
    }
  ]
}
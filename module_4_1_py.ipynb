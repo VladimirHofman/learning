{
  "nbformat": 4,
  "nbformat_minor": 0,
  "metadata": {
    "colab": {
      "provenance": [],
      "authorship_tag": "ABX9TyPYBH2BPQGEGzJvpcYanG2k",
      "include_colab_link": true
    },
    "kernelspec": {
      "name": "python3",
      "display_name": "Python 3"
    },
    "language_info": {
      "name": "python"
    }
  },
  "cells": [
    {
      "cell_type": "markdown",
      "metadata": {
        "id": "view-in-github",
        "colab_type": "text"
      },
      "source": [
        "<a href=\"https://colab.research.google.com/github/VladimirHofman/learning/blob/main/module_4_1_py.ipynb\" target=\"_parent\"><img src=\"https://colab.research.google.com/assets/colab-badge.svg\" alt=\"Open In Colab\"/></a>"
      ]
    },
    {
      "cell_type": "code",
      "source": [
        "import fake_math as f_m\n",
        "import true_math as t_m\n",
        "\n",
        "\n",
        "f_m.divide(69, 3)\n",
        "f_m.divide(3, 0)\n",
        "t_m.divide(49, 7)\n",
        "t_m.divide(15, 0)\n"
      ],
      "metadata": {
        "id": "PCdpkXbGR6uW"
      },
      "execution_count": null,
      "outputs": []
    },
    {
      "cell_type": "code",
      "source": [
        "def divide(first, second):\n",
        "\n",
        "    if second == 0:\n",
        "        return print('Ошибка')\n",
        "    else:\n",
        "        return print(first/second)"
      ],
      "metadata": {
        "id": "8QeDzvPn-kak"
      },
      "execution_count": null,
      "outputs": []
    },
    {
      "cell_type": "code",
      "source": [
        "import math\n",
        "def divide(first,second):\n",
        "\n",
        "    if second == 0:\n",
        "        return print(math.inf)\n",
        "\n",
        "    else:\n",
        "        return print(first/second)"
      ],
      "metadata": {
        "id": "6ukV4Z_i-qC1"
      },
      "execution_count": null,
      "outputs": []
    }
  ]
}
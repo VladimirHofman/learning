{
  "nbformat": 4,
  "nbformat_minor": 0,
  "metadata": {
    "colab": {
      "provenance": [],
      "authorship_tag": "ABX9TyP7yvjHWGTZ0aoqd9N6srHv",
      "include_colab_link": true
    },
    "kernelspec": {
      "name": "python3",
      "display_name": "Python 3"
    },
    "language_info": {
      "name": "python"
    }
  },
  "cells": [
    {
      "cell_type": "markdown",
      "metadata": {
        "id": "view-in-github",
        "colab_type": "text"
      },
      "source": [
        "<a href=\"https://colab.research.google.com/github/VladimirHofman/learning/blob/main/module_2_5.ipynb\" target=\"_parent\"><img src=\"https://colab.research.google.com/assets/colab-badge.svg\" alt=\"Open In Colab\"/></a>"
      ]
    },
    {
      "cell_type": "markdown",
      "source": [
        "Задача \"Матрица воплоти\":\n",
        "Напишите функцию get_matrix с тремя параметрами n, m и value, которая будет создавать матрицу(вложенный список) размерами n строк и m столбцов, заполненную значениями value и возвращать эту матрицу в качестве результата работы.\n",
        "\n",
        "Пункты задачи:\n",
        "\n",
        "    Объявите функцию get_matrix и напишите в ней параметры n, m и value.\n",
        "    Создайте пустой список matrix внутри функции get_matrix.\n",
        "    Напишите первый(внешний) цикл for для кол-ва строк матрицы, n повторов.\n",
        "    В первом цикле добавляйте пустой список в список matrix.\n",
        "    Напишите второй(внутренний) цикл for для кол-ва столбцов матрицы, m повторов.\n",
        "    Во втором цикле пополняйте ранее добавленный пустой список значениями value.\n",
        "    После всех циклов верните значение переменной matrix.\n",
        "    Выведите на экран(консоль) результат работы функции get_matrix."
      ],
      "metadata": {
        "id": "il806ZhfUtZX"
      }
    },
    {
      "cell_type": "code",
      "source": [
        "def get_matrix(n, m, value):\n",
        "\n",
        "  matrix = []\n",
        "\n",
        "  for i in range(n):\n",
        "    row = []\n",
        "    for j in range(m):\n",
        "\n",
        "      row.append(value)\n",
        "    matrix.append(row)\n",
        "\n",
        "  return matrix\n",
        "\n",
        "result1 = get_matrix(2, 2, 10)\n",
        "result2 = get_matrix(3, 5, 42)\n",
        "result3 = get_matrix(4, 2, 13)\n",
        "\n",
        "\n",
        "print(result1)\n",
        "print(result2)\n",
        "print(result3)"
      ],
      "metadata": {
        "id": "ZWybs_RKLmO5",
        "colab": {
          "base_uri": "https://localhost:8080/"
        },
        "outputId": "99bc3f61-4a31-490d-c074-3da8eeda1ec7"
      },
      "execution_count": 52,
      "outputs": [
        {
          "output_type": "stream",
          "name": "stdout",
          "text": [
            "[[10, 10], [10, 10]]\n",
            "[[42, 42, 42, 42, 42], [42, 42, 42, 42, 42], [42, 42, 42, 42, 42]]\n",
            "[[13, 13], [13, 13], [13, 13], [13, 13]]\n"
          ]
        }
      ]
    }
  ]
}
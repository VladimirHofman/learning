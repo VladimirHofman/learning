{
  "nbformat": 4,
  "nbformat_minor": 0,
  "metadata": {
    "colab": {
      "provenance": [],
      "authorship_tag": "ABX9TyNgZ+XVQddmOtX7LSrtXts0",
      "include_colab_link": true
    },
    "kernelspec": {
      "name": "python3",
      "display_name": "Python 3"
    },
    "language_info": {
      "name": "python"
    }
  },
  "cells": [
    {
      "cell_type": "markdown",
      "metadata": {
        "id": "view-in-github",
        "colab_type": "text"
      },
      "source": [
        "<a href=\"https://colab.research.google.com/github/VladimirHofman/learning/blob/main/homework6.ipynb\" target=\"_parent\"><img src=\"https://colab.research.google.com/assets/colab-badge.svg\" alt=\"Open In Colab\"/></a>"
      ]
    },
    {
      "cell_type": "markdown",
      "source": [
        "Работа со словарями:\n",
        "  - Создайте переменную my_dict и присвойте ей словарь из нескольких пар ключ-значение.\n",
        "Например: Имя(str)-Год рождения(int).\n",
        "  - Выведите на экран словарь my_dict.\n",
        "  - Выведите на экран одно значение по существующему ключу, одно по отсутствующему из словаря my_dict без ошибки.\n",
        "  - Добавьте ещё две произвольные пары того же формата в словарь my_dict.\n",
        " - Удалите одну из пар в словаре по существующему ключу из словаря my_dict и выведите значение из этой пары на экран.\n",
        " - Выведите на экран словарь my_dict.\n",
        "\n",
        "Работа с множествами:\n",
        "  - Создайте переменную my_set и присвойте ей множество, состоящее из разных типов данных с повторяющимися значениями.\n",
        "  - Выведите на экран множество my_set (должны отобразиться только уникальные значения).\n",
        "  - Добавьте 2 произвольных элемента в множество my_set, которых ещё нет.\n",
        "  - Удалите один любой элемент из множества my_set.\n",
        "  - Выведите на экран измененное множество my_set."
      ],
      "metadata": {
        "id": "GRQ4mBzwKbR9"
      }
    },
    {
      "cell_type": "code",
      "source": [
        "# dict\n",
        "my_dict = {'Viktor': 1991, 'Vanessa': 2000 , 'Vladimir': 1988}\n",
        "print('Dict: ', my_dict)\n",
        "print('Existing value: ', my_dict['Vanessa'])\n",
        "\n",
        "print('Not existing value: ', my_dict.get('Roman'))\n",
        "my_dict.update({'Gena': 2001, 'Elena': 1995})\n",
        "print('Deleted value: ', my_dict.pop('Viktor'))\n",
        "print('Modified dictionary: ', (my_dict))\n",
        "\n",
        "print()\n",
        "\n",
        "#set\n",
        "my_set = {12, 34.4, (1,23,4), 12, 'Stream'}\n",
        "print('Set: ', my_set)\n",
        "\n",
        "for i in 'first', 2:\n",
        "  my_set.add(i)\n",
        "\n",
        "my_set.discard(3)\n",
        "print('Modified set: ', my_set)\n"
      ],
      "metadata": {
        "colab": {
          "base_uri": "https://localhost:8080/"
        },
        "id": "WpA-JPX2KfDv",
        "outputId": "32a2bb45-4dcd-45c4-b03e-e5089e296acf"
      },
      "execution_count": 50,
      "outputs": [
        {
          "output_type": "stream",
          "name": "stdout",
          "text": [
            "Dict:  {'Viktor': 1991, 'Vanessa': 2000, 'Vladimir': 1988}\n",
            "Existing value:  2000\n",
            "Not existing value:  None\n",
            "Deleted value:  1991\n",
            "Modified dictionary:  {'Vanessa': 2000, 'Vladimir': 1988, 'Gena': 2001, 'Elena': 1995}\n",
            "\n",
            "Set:  {'Stream', (1, 23, 4), 34.4, 12}\n",
            "Modified set:  {34.4, 2, 'Stream', (1, 23, 4), 12, 'first'}\n"
          ]
        }
      ]
    }
  ]
}
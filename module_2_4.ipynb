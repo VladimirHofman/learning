{
  "nbformat": 4,
  "nbformat_minor": 0,
  "metadata": {
    "colab": {
      "provenance": [],
      "authorship_tag": "ABX9TyPCyadNFsrNuZ0pq3EgI/78",
      "include_colab_link": true
    },
    "kernelspec": {
      "name": "python3",
      "display_name": "Python 3"
    },
    "language_info": {
      "name": "python"
    }
  },
  "cells": [
    {
      "cell_type": "markdown",
      "metadata": {
        "id": "view-in-github",
        "colab_type": "text"
      },
      "source": [
        "<a href=\"https://colab.research.google.com/github/VladimirHofman/learning/blob/main/module_2_4.ipynb\" target=\"_parent\"><img src=\"https://colab.research.google.com/assets/colab-badge.svg\" alt=\"Open In Colab\"/></a>"
      ]
    },
    {
      "cell_type": "markdown",
      "source": [
        "Задача \"Всё не так уж просто\":\n",
        "Дан список чисел numbers = [1, 2, 3, 4, 5, 6, 7, 8, 9, 10, 11, 12, 13, 14, 15]\n",
        "Используя этот список составьте второй список primes содержащий только простые числа.\n",
        "А так же третий список not_primes, содержащий все не простые числа.\n",
        "Выведите списки primes и not_primes на экран(в консоль).\n",
        "Пункты задачи:\n",
        "\n",
        "    Создайте пустые списки primes и not_primes.\n",
        "    При помощи цикла for переберите список numbers.\n",
        "    Напишите ещё один цикл for (вложенный), где будут подбираться делители для числа из 1ого цикла.\n",
        "    Отметить простоту числа можно переменной is_prime, записав в неё занчение True перед проверкой.\n",
        "    В процессе проверки на простоту записывайте числа из списка numbers в списки primes и not_primes в зависимости от значения переменной is_prime после проверки (True - в prime, False - в not_prime).\n",
        "    Выведите списки primes и not_primes на экран(в консоль)."
      ],
      "metadata": {
        "id": "RGOlP1sLqw0Q"
      }
    },
    {
      "cell_type": "code",
      "source": [
        "numbers = [1, 2, 3, 4, 5, 6, 7, 8, 9, 10, 11, 12, 13, 14, 15]\n",
        "primes = []\n",
        "not_primes = []\n",
        "\n",
        "for j in numbers:\n",
        "    is_prime = True\n",
        "    if j > 1:\n",
        "        for i in range(2, int(j ** 0.5) + 1):\n",
        "            if j % i == 0:\n",
        "                is_prime = False\n",
        "                break\n",
        "        if is_prime:\n",
        "            primes.append(j)\n",
        "        else:\n",
        "            not_primes.append(j)\n",
        "\n",
        "print(\"Простые числа:\", primes)\n",
        "print(\"Not Primes:\", not_primes)\n"
      ],
      "metadata": {
        "id": "ZWybs_RKLmO5",
        "colab": {
          "base_uri": "https://localhost:8080/"
        },
        "outputId": "ed6e8f22-00fe-4a49-e6e7-c48794c016cc"
      },
      "execution_count": 24,
      "outputs": [
        {
          "output_type": "stream",
          "name": "stdout",
          "text": [
            "Простые числа: [2, 3, 5, 7, 11, 13]\n",
            "Not Primes: [4, 6, 8, 9, 10, 12, 14, 15]\n"
          ]
        }
      ]
    }
  ]
}
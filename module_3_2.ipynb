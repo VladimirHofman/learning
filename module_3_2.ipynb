{
  "nbformat": 4,
  "nbformat_minor": 0,
  "metadata": {
    "colab": {
      "provenance": [],
      "authorship_tag": "ABX9TyPukW/BW1hMyNV2MysagDrM",
      "include_colab_link": true
    },
    "kernelspec": {
      "name": "python3",
      "display_name": "Python 3"
    },
    "language_info": {
      "name": "python"
    }
  },
  "cells": [
    {
      "cell_type": "markdown",
      "metadata": {
        "id": "view-in-github",
        "colab_type": "text"
      },
      "source": [
        "<a href=\"https://colab.research.google.com/github/VladimirHofman/learning/blob/main/module_3_2.ipynb\" target=\"_parent\"><img src=\"https://colab.research.google.com/assets/colab-badge.svg\" alt=\"Open In Colab\"/></a>"
      ]
    },
    {
      "cell_type": "code",
      "source": [
        "char_1 = '@'\n",
        "dom = ('com', 'ru', 'net')\n",
        "\n",
        "def send_email(message, recipient, sender = \"university.help@gmail.com\"):\n",
        "  sender_spl = sender.split('.')\n",
        "  recipient_spl = recipient.split('.')\n",
        "\n",
        "\n",
        "  if ((sender_spl[-1] not in dom or char_1 not in sender) or\n",
        "      (recipient_spl[-1] not in dom or  char_1 not in recipient)):\n",
        "    print(f'Невозможно отправить письмо с адреса {sender} на адрес {recipient}')\n",
        "\n",
        "  elif sender == recipient:\n",
        "    print('Нельзя отправить письмо самому себе!')\n",
        "\n",
        "  elif sender == \"university.help@gmail.com\":\n",
        "    print(f'Письмо успешно отправлено с адреса {sender} на адрес {recipient}.')\n",
        "\n",
        "  else:\n",
        "    print(f'НЕСТАНДАРТНЫЙ ОТПРАВИТЕЛЬ! Письмо отправлено с адреса {sender} на адрес {recipient}')\n",
        "\n",
        "\n",
        "send_email('Это сообщение для проверки связи', 'vasyok1337@gmail.com')\n",
        "send_email('Вы видите это сообщение как лучший студент курса!', 'urban.fan@mail.ru', sender='urban.info@gmail.com')\n",
        "send_email('Пожалуйста, исправьте задание', 'urban.student@mail.ru', sender='urban.teacher@mail.uk')\n",
        "send_email('Напоминаю самому себе о вебинаре', 'urban.teacher@mail.ru', sender='urban.teacher@mail.ru')\n",
        "\n",
        "\n",
        "\n",
        "\n",
        "\n"
      ],
      "metadata": {
        "colab": {
          "base_uri": "https://localhost:8080/"
        },
        "id": "FkqP46DqnJ8R",
        "outputId": "40fe0942-9b10-4160-9003-8a414b376d66"
      },
      "execution_count": null,
      "outputs": [
        {
          "output_type": "stream",
          "name": "stdout",
          "text": [
            "Письмо успешно отправлено с адреса university.help@gmail.com на адрес vasyok1337@gmail.com.\n",
            "НЕСТАНДАРТНЫЙ ОТПРАВИТЕЛЬ! Письмо отправлено с адреса urban.info@gmail.com на адрес urban.fan@mail.ru\n",
            "Невозможно отправить письмо с адреса urban.teacher@mail.uk на адрес urban.student@mail.ru\n",
            "Нельзя отправить письмо самому себе!\n"
          ]
        }
      ]
    }
  ]
}
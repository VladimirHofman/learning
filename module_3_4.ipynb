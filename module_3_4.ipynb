{
  "nbformat": 4,
  "nbformat_minor": 0,
  "metadata": {
    "colab": {
      "provenance": [],
      "authorship_tag": "ABX9TyNeYOoPQ/pIqIr0o4kvH9L0",
      "include_colab_link": true
    },
    "kernelspec": {
      "name": "python3",
      "display_name": "Python 3"
    },
    "language_info": {
      "name": "python"
    }
  },
  "cells": [
    {
      "cell_type": "markdown",
      "metadata": {
        "id": "view-in-github",
        "colab_type": "text"
      },
      "source": [
        "<a href=\"https://colab.research.google.com/github/VladimirHofman/learning/blob/main/module_3_4.ipynb\" target=\"_parent\"><img src=\"https://colab.research.google.com/assets/colab-badge.svg\" alt=\"Open In Colab\"/></a>"
      ]
    },
    {
      "cell_type": "code",
      "source": [
        "def single_root_words(root_word, *other_words):\n",
        "\n",
        "  same_words = []\n",
        "\n",
        "  for word in other_words:\n",
        "\n",
        "    if root_word.lower() in word.lower() or word.lower() in root_word.lower():\n",
        "      same_words.append(word)\n",
        "\n",
        "  return same_words\n",
        "\n",
        "result1 = single_root_words('rich', 'richiest', 'orichalcum', 'cheers', 'richies')\n",
        "result2 = single_root_words('Disablement', 'Able', 'Mable', 'Disable', 'Bagel')\n",
        "print(result1)\n",
        "print(result2)\n"
      ],
      "metadata": {
        "colab": {
          "base_uri": "https://localhost:8080/"
        },
        "id": "PCdpkXbGR6uW",
        "outputId": "9f494a92-f7e0-4374-857a-2788ce4ffa41"
      },
      "execution_count": 20,
      "outputs": [
        {
          "output_type": "stream",
          "name": "stdout",
          "text": [
            "['richiest', 'orichalcum', 'richies']\n",
            "['Able', 'Disable']\n"
          ]
        }
      ]
    }
  ]
}
{
  "nbformat": 4,
  "nbformat_minor": 0,
  "metadata": {
    "colab": {
      "provenance": [],
      "authorship_tag": "ABX9TyNXus966sdkwZh4JeIScXqI",
      "include_colab_link": true
    },
    "kernelspec": {
      "name": "python3",
      "display_name": "Python 3"
    },
    "language_info": {
      "name": "python"
    }
  },
  "cells": [
    {
      "cell_type": "markdown",
      "metadata": {
        "id": "view-in-github",
        "colab_type": "text"
      },
      "source": [
        "<a href=\"https://colab.research.google.com/github/VladimirHofman/learning/blob/main/module_3_3.ipynb\" target=\"_parent\"><img src=\"https://colab.research.google.com/assets/colab-badge.svg\" alt=\"Open In Colab\"/></a>"
      ]
    },
    {
      "cell_type": "code",
      "source": [
        "def print_params(a = 1, b = 'строка', c = True):\n",
        "  print(a, b, c)\n",
        "\n",
        "\n",
        "values_list = [3, 'Hello', False]\n",
        "values_dict = {'a': 2, 'b': '6', 'c': False}\n",
        "values_list_2 = [54.32, 'Строка' ]\n",
        "\n",
        "\n",
        "print_params()\n",
        "print_params(*values_list)\n",
        "print_params(**values_dict)\n",
        "print_params(*values_list_2, 42)\n",
        "\n",
        "print_params(b = 25)\n",
        "print_params(c = [1,2,3])\n"
      ],
      "metadata": {
        "colab": {
          "base_uri": "https://localhost:8080/"
        },
        "id": "PCdpkXbGR6uW",
        "outputId": "3481dbdc-5d18-4f9a-c485-82c401929bc1"
      },
      "execution_count": 1,
      "outputs": [
        {
          "output_type": "stream",
          "name": "stdout",
          "text": [
            "1 строка True\n",
            "3 Hello False\n",
            "2 6 False\n",
            "54.32 Строка 42\n",
            "1 25 True\n",
            "1 строка [1, 2, 3]\n"
          ]
        }
      ]
    }
  ]
}
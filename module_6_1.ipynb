{
  "nbformat": 4,
  "nbformat_minor": 0,
  "metadata": {
    "colab": {
      "provenance": [],
      "authorship_tag": "ABX9TyOZjYBmJKrxDf5urnUY+etI",
      "include_colab_link": true
    },
    "kernelspec": {
      "name": "python3",
      "display_name": "Python 3"
    },
    "language_info": {
      "name": "python"
    }
  },
  "cells": [
    {
      "cell_type": "markdown",
      "metadata": {
        "id": "view-in-github",
        "colab_type": "text"
      },
      "source": [
        "<a href=\"https://colab.research.google.com/github/VladimirHofman/learning/blob/main/module_6_1.ipynb\" target=\"_parent\"><img src=\"https://colab.research.google.com/assets/colab-badge.svg\" alt=\"Open In Colab\"/></a>"
      ]
    },
    {
      "cell_type": "code",
      "source": [
        "class Animal:\n",
        "    def __init__(self, name):\n",
        "        self.name = name\n",
        "        self.alive = True\n",
        "        self.fed = False\n",
        "\n",
        "    def eat(self, food):\n",
        "        if food.edible:\n",
        "            print(f\"{self.name} съел {food.name}\")\n",
        "            self.fed = True\n",
        "        else:\n",
        "            print(f\"{self.name} не стал есть {food.name}\")\n",
        "            self.alive = False\n",
        "\n",
        "\n",
        "class Plant:\n",
        "    def __init__(self, name):\n",
        "        self.name = name\n",
        "        self.edible = False\n",
        "\n",
        "\n",
        "class Mammal(Animal):\n",
        "    pass\n",
        "\n",
        "\n",
        "class Predator(Animal):\n",
        "    pass\n",
        "\n",
        "\n",
        "class Flower(Plant):\n",
        "    pass\n",
        "\n",
        "\n",
        "class Fruit(Plant):\n",
        "    def __init__(self, name):\n",
        "        super().__init__(name)\n",
        "        self.edible = True\n",
        "\n",
        "\n",
        "a1 = Predator('Волк с Уолл-Стрит')\n",
        "a2 = Mammal('Хатико')\n",
        "p1 = Flower('Цветик семицветик')\n",
        "p2 = Fruit('Заводной апельсин')\n",
        "\n",
        "print(a1.name)\n",
        "print(p1.name)\n",
        "\n",
        "print(a1.alive)\n",
        "print(a2.fed)\n",
        "a1.eat(p1)\n",
        "a2.eat(p2)\n",
        "print(a1.alive)\n",
        "print(a2.fed)\n",
        "\n",
        "\n",
        "\n"
      ],
      "metadata": {
        "colab": {
          "base_uri": "https://localhost:8080/"
        },
        "id": "0BEXblKt31L5",
        "outputId": "8aed834d-76ed-47ad-e07b-c009b205ab91"
      },
      "execution_count": 1,
      "outputs": [
        {
          "output_type": "stream",
          "name": "stdout",
          "text": [
            "Волк с Уолл-Стрит\n",
            "Цветик семицветик\n",
            "True\n",
            "False\n",
            "Волк с Уолл-Стрит не стал есть Цветик семицветик\n",
            "Хатико съел Заводной апельсин\n",
            "False\n",
            "True\n"
          ]
        }
      ]
    }
  ]
}
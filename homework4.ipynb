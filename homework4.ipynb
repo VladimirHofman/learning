{
  "nbformat": 4,
  "nbformat_minor": 0,
  "metadata": {
    "colab": {
      "provenance": [],
      "authorship_tag": "ABX9TyNn9eG7eeRynd90H6JFBql1",
      "include_colab_link": true
    },
    "kernelspec": {
      "name": "python3",
      "display_name": "Python 3"
    },
    "language_info": {
      "name": "python"
    }
  },
  "cells": [
    {
      "cell_type": "markdown",
      "metadata": {
        "id": "view-in-github",
        "colab_type": "text"
      },
      "source": [
        "<a href=\"https://colab.research.google.com/github/VladimirHofman/learning/blob/main/homework4.ipynb\" target=\"_parent\"><img src=\"https://colab.research.google.com/assets/colab-badge.svg\" alt=\"Open In Colab\"/></a>"
      ]
    },
    {
      "cell_type": "markdown",
      "source": [
        "    Создайте переменную my_string и присвойте ей значение строки с произвольным текстом (функция input()).\n",
        "    Вывести количество символов введённого текста\n",
        "\n",
        "\n",
        "    Выведите строку my_string в верхнем регистре.\n",
        "    Выведите строку my_string в нижнем регистре.\n",
        "    Измените строку my_string, удалив все пробелы.\n",
        "    Выведите первый символ строки my_string.\n",
        "    Выведите последний символ строки my_string."
      ],
      "metadata": {
        "id": "IbMMoh_SAtGf"
      }
    },
    {
      "cell_type": "code",
      "source": [
        "my_string = input()\n",
        "\n",
        "n_char = len(my_string)\n",
        "\n",
        "print('Кол. символов', n_char)\n",
        "\n",
        "print(my_string.upper(),'\\n', my_string.lower(),\n",
        "      '\\n', my_string.replace(' ', ''),'\\n', my_string[0],'\\n', my_string[-1])\n",
        "\n",
        "\n"
      ],
      "metadata": {
        "colab": {
          "base_uri": "https://localhost:8080/"
        },
        "id": "rFdlLfX_8ok4",
        "outputId": "e6711548-942f-4c46-da6e-5eefa8f23b90"
      },
      "execution_count": 24,
      "outputs": [
        {
          "output_type": "stream",
          "name": "stdout",
          "text": [
            "Ad cogitandum et agendum homo natus est\n",
            "Кол. символов 39\n",
            "AD COGITANDUM ET AGENDUM HOMO NATUS EST \n",
            " ad cogitandum et agendum homo natus est \n",
            " Adcogitandumetagendumhomonatusest \n",
            " A \n",
            " t\n"
          ]
        }
      ]
    }
  ]
}